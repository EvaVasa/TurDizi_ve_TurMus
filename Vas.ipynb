{
 "cells": [
  {
   "cell_type": "code",
   "execution_count": 1,
   "metadata": {},
   "outputs": [],
   "source": [
    "import vk \n",
    "import json"
   ]
  },
  {
   "cell_type": "code",
   "execution_count": 2,
   "metadata": {},
   "outputs": [],
   "source": [
    "token = \"63e163d363e163d363e163d3af63929ca4663e163e163d33c849b30d5a14a8ec695bb76\"  # Сервисный ключ доступа\n",
    "session = vk.Session(access_token=token)  # Авторизация\n",
    "vk_api = vk.API(session)"
   ]
  },
  {
   "cell_type": "code",
   "execution_count": 3,
   "metadata": {},
   "outputs": [],
   "source": [
    "personal_token = \"694665bc9f22c8045de619f7b0b7221abeacf1946fa2a4b15e22b5537b1d4bda98761659cc5f127a86d3e\"  # Персональный ключ доступа, по завершении дз можно удалить для соблюдения конфиденциальности\n",
    "session = vk.Session(access_token=personal_token)  # Авторизация\n",
    "vk_personal_api = vk.API(session) "
   ]
  },
  {
   "cell_type": "code",
   "execution_count": 4,
   "metadata": {},
   "outputs": [],
   "source": [
    "def get_members(groupid, fields=('sex', 'bdate', 'city', 'country', 'domain')):\n",
    "    first = vk_api.groups.getMembers(group_id=groupid, fields=fields, v=5.92)  # Первое выполнение метода\n",
    "    data = first[\"items\"]  # Присваиваем переменной первую тысячу id'шников\n",
    "    count = first[\"count\"] // 1000  # Присваиваем переменной количество тысяч участников\n",
    "    # С каждым проходом цикла смещение offset увеличивается на тысячу\n",
    "    # и еще тысяча id'шников добавляется к нашему списку.\n",
    "    for i in range(1, count+1):  \n",
    "        data = data + vk_api.groups.getMembers(group_id=groupid, fields=fields, v=5.92, offset=i*1000)[\"items\"]\n",
    "    return data"
   ]
  },
  {
   "cell_type": "code",
   "execution_count": 5,
   "metadata": {},
   "outputs": [],
   "source": [
    "members_m = get_members(\"trmuzik\")"
   ]
  },
  {
   "cell_type": "code",
   "execution_count": 6,
   "metadata": {},
   "outputs": [
    {
     "data": {
      "text/plain": [
       "221152"
      ]
     },
     "execution_count": 6,
     "metadata": {},
     "output_type": "execute_result"
    }
   ],
   "source": [
    "len (members_m)"
   ]
  },
  {
   "cell_type": "code",
   "execution_count": 7,
   "metadata": {},
   "outputs": [],
   "source": [
    "members_s = get_members(\"hercaiturksinema\")"
   ]
  },
  {
   "cell_type": "code",
   "execution_count": 8,
   "metadata": {},
   "outputs": [
    {
     "data": {
      "text/plain": [
       "306797"
      ]
     },
     "execution_count": 8,
     "metadata": {},
     "output_type": "execute_result"
    }
   ],
   "source": [
    "len (members_s)"
   ]
  },
  {
   "cell_type": "code",
   "execution_count": 9,
   "metadata": {},
   "outputs": [],
   "source": [
    "members_s1 = get_members(\"dizimania\")"
   ]
  },
  {
   "cell_type": "code",
   "execution_count": 10,
   "metadata": {},
   "outputs": [
    {
     "data": {
      "text/plain": [
       "156747"
      ]
     },
     "execution_count": 10,
     "metadata": {},
     "output_type": "execute_result"
    }
   ],
   "source": [
    "len (members_s1)"
   ]
  },
  {
   "cell_type": "code",
   "execution_count": 11,
   "metadata": {},
   "outputs": [],
   "source": [
    "members_s2 = get_members(\"diziturk\")"
   ]
  },
  {
   "cell_type": "code",
   "execution_count": 12,
   "metadata": {},
   "outputs": [
    {
     "data": {
      "text/plain": [
       "199100"
      ]
     },
     "execution_count": 12,
     "metadata": {},
     "output_type": "execute_result"
    }
   ],
   "source": [
    "len (members_s2)"
   ]
  },
  {
   "cell_type": "code",
   "execution_count": 13,
   "metadata": {},
   "outputs": [],
   "source": [
    "def save_members_to_file(filename, members):\n",
    "    with open(filename, 'w', encoding='utf-8') as f:\n",
    "        for member in members:\n",
    "            _id = member[\"id\"] # находим айди участника\n",
    "            first_name = member[\"first_name\"] # находим имя учатника\n",
    "            last_name = member[\"last_name\"] # находим фамилию учатника\n",
    "            \n",
    "            sex = member[\"sex\"] # находим пол учатника (1 или 2)\n",
    "            if int(sex) == 1:  # если пол это 1 \n",
    "                sex = \"F\"  # обозначем женский пол как F\n",
    "            elif int(sex) == 2:  # если пол это 2 \n",
    "                sex = \"M\" # обозначем мужской пол как F\n",
    "            else:  # если есть другой какой-то пол\n",
    "                sex = \"-\"  # скорее всего нет, поэтому ставим прочерк\n",
    "                \n",
    "            bdate = member.get('bdate', \"-\")   # находим день рождения учатника\n",
    "            if len(bdate.split(\".\")) == 3:  # нам нужен только год, если он есть\n",
    "                bdate = bdate.split(\".\")[-1]  # то сохраняем год\n",
    "            else:  # если год не указан, то возраст участника мы не узнаем\n",
    "                bdate = \"-\"  # поэтому прочерк\n",
    "                \n",
    "            city = member.get('city', {}).get(\"title\", \"-\")  # находим город участника\n",
    "            country = member.get('country', {}).get(\"title\", \"-\")  # находим страну участника\n",
    "            f.write(f\"{_id},\\t{first_name}\\t{last_name}\\t{sex}\\t{bdate}\\t{city}\\t{country}\\n\")  # сохраняем информацию в файл"
   ]
  },
  {
   "cell_type": "code",
   "execution_count": 14,
   "metadata": {},
   "outputs": [],
   "source": [
    "save_members_to_file (\"trmuzik.tsv\", members_m)"
   ]
  },
  {
   "cell_type": "code",
   "execution_count": 15,
   "metadata": {},
   "outputs": [],
   "source": [
    "save_members_to_file (\"hercaiturksinema.tsv\",members_s)"
   ]
  },
  {
   "cell_type": "code",
   "execution_count": 16,
   "metadata": {},
   "outputs": [],
   "source": [
    "save_members_to_file (\"dizimania.tsv\",members_s1)"
   ]
  },
  {
   "cell_type": "code",
   "execution_count": 17,
   "metadata": {},
   "outputs": [],
   "source": [
    "save_members_to_file (\"diziturk.tsv\",members_s2)"
   ]
  },
  {
   "cell_type": "code",
   "execution_count": 18,
   "metadata": {},
   "outputs": [],
   "source": [
    "with open(\"../project_vasileva-main/trmuzik.tsv\", 'r', encoding='utf-8') as f:\n",
    "    members_m = f.read().split(\"\\n\")\n",
    "    \n",
    "with open(\"../project_vasileva-main/hercaiturksinema.tsv\", 'r', encoding='utf-8') as f:\n",
    "    members_s = f.read().split(\"\\n\")\n",
    "    \n",
    "with open(\"../project_vasileva-main/dizimania.tsv\", 'r', encoding='utf-8') as f:\n",
    "    members_s1 = f.read().split(\"\\n\")\n",
    "\n",
    "with open(\"../project_vasileva-main/diziturk.tsv\", 'r', encoding='utf-8') as f:\n",
    "    members_s2 = f.read().split(\"\\n\")"
   ]
  },
  {
   "cell_type": "code",
   "execution_count": 19,
   "metadata": {},
   "outputs": [],
   "source": [
    "members_m = set(members_m)\n",
    "members_s= set(members_s)\n",
    "members_s1 = set(members_s1)\n",
    "members_s2 = set(members_s2)\n",
    "\n",
    "members_s2.remove(\"\")"
   ]
  },
  {
   "cell_type": "code",
   "execution_count": 20,
   "metadata": {},
   "outputs": [],
   "source": [
    "united_members = members_s.union(members_s1).union(members_s2)"
   ]
  },
  {
   "cell_type": "code",
   "execution_count": 21,
   "metadata": {},
   "outputs": [
    {
     "data": {
      "text/plain": [
       "595905"
      ]
     },
     "execution_count": 21,
     "metadata": {},
     "output_type": "execute_result"
    }
   ],
   "source": [
    "len (united_members)"
   ]
  },
  {
   "cell_type": "code",
   "execution_count": 34,
   "metadata": {},
   "outputs": [],
   "source": [
    "with open (\"united_members.tsv\", \"w\",  encoding='utf-8') as f:\n",
    "    for i in united_members:\n",
    "        f.write(i + \"\\n\")"
   ]
  },
  {
   "cell_type": "code",
   "execution_count": 28,
   "metadata": {},
   "outputs": [],
   "source": [
    "intersected_members = members_s.intersection(members_s1).intersection(members_s2)"
   ]
  },
  {
   "cell_type": "code",
   "execution_count": 29,
   "metadata": {},
   "outputs": [
    {
     "data": {
      "text/plain": [
       "7452"
      ]
     },
     "execution_count": 29,
     "metadata": {},
     "output_type": "execute_result"
    }
   ],
   "source": [
    "len (intersected_members)"
   ]
  },
  {
   "cell_type": "code",
   "execution_count": 37,
   "metadata": {},
   "outputs": [],
   "source": [
    "unique_members_s = united_members - intersected_members"
   ]
  },
  {
   "cell_type": "code",
   "execution_count": 38,
   "metadata": {},
   "outputs": [
    {
     "data": {
      "text/plain": [
       "588453"
      ]
     },
     "execution_count": 38,
     "metadata": {},
     "output_type": "execute_result"
    }
   ],
   "source": [
    "len (unique_members_s)"
   ]
  },
  {
   "cell_type": "code",
   "execution_count": 39,
   "metadata": {},
   "outputs": [],
   "source": [
    "with open (\"unique_members_s.tsv\", \"w\",  encoding='utf-8') as f:\n",
    "    for i in united_members:\n",
    "        f.write(i + \"\\n\")"
   ]
  },
  {
   "cell_type": "code",
   "execution_count": 40,
   "metadata": {},
   "outputs": [],
   "source": [
    "intersected_members_m = members_m.intersection(unique_members_s)"
   ]
  },
  {
   "cell_type": "code",
   "execution_count": 41,
   "metadata": {},
   "outputs": [
    {
     "data": {
      "text/plain": [
       "33742"
      ]
     },
     "execution_count": 41,
     "metadata": {},
     "output_type": "execute_result"
    }
   ],
   "source": [
    "len (intersected_members_m)"
   ]
  },
  {
   "cell_type": "code",
   "execution_count": 42,
   "metadata": {},
   "outputs": [],
   "source": [
    "with open (\"intersected_members_m.tsv\", \"w\",  encoding='utf-8') as f:\n",
    "    for i in united_members:\n",
    "        f.write(i + \"\\n\")"
   ]
  },
  {
   "cell_type": "code",
   "execution_count": 44,
   "metadata": {},
   "outputs": [
    {
     "name": "stdout",
     "output_type": "stream",
     "text": [
      "Collecting matplotlib-venn\n",
      "  Downloading matplotlib-venn-0.11.6.tar.gz (29 kB)\n",
      "Requirement already satisfied: matplotlib in /Users/ekaterinavasileva/opt/anaconda3/lib/python3.8/site-packages (from matplotlib-venn) (3.2.2)\n",
      "Requirement already satisfied: numpy in /Users/ekaterinavasileva/opt/anaconda3/lib/python3.8/site-packages (from matplotlib-venn) (1.18.5)\n",
      "Requirement already satisfied: scipy in /Users/ekaterinavasileva/opt/anaconda3/lib/python3.8/site-packages (from matplotlib-venn) (1.5.0)\n",
      "Requirement already satisfied: cycler>=0.10 in /Users/ekaterinavasileva/opt/anaconda3/lib/python3.8/site-packages (from matplotlib->matplotlib-venn) (0.10.0)\n",
      "Requirement already satisfied: kiwisolver>=1.0.1 in /Users/ekaterinavasileva/opt/anaconda3/lib/python3.8/site-packages (from matplotlib->matplotlib-venn) (1.2.0)\n",
      "Requirement already satisfied: python-dateutil>=2.1 in /Users/ekaterinavasileva/opt/anaconda3/lib/python3.8/site-packages (from matplotlib->matplotlib-venn) (2.8.1)\n",
      "Requirement already satisfied: pyparsing!=2.0.4,!=2.1.2,!=2.1.6,>=2.0.1 in /Users/ekaterinavasileva/opt/anaconda3/lib/python3.8/site-packages (from matplotlib->matplotlib-venn) (2.4.7)\n",
      "Requirement already satisfied: six in /Users/ekaterinavasileva/opt/anaconda3/lib/python3.8/site-packages (from cycler>=0.10->matplotlib->matplotlib-venn) (1.15.0)\n",
      "Building wheels for collected packages: matplotlib-venn\n",
      "  Building wheel for matplotlib-venn (setup.py) ... \u001b[?25ldone\n",
      "\u001b[?25h  Created wheel for matplotlib-venn: filename=matplotlib_venn-0.11.6-py3-none-any.whl size=32061 sha256=bd933524a662b8b4d74dc8dfe5ff839b19aac01cff3f1a0b53323384f72250c5\n",
      "  Stored in directory: /Users/ekaterinavasileva/Library/Caches/pip/wheels/82/e4/64/dd790d424818bc2f59c11471a1eee5dc8cfcd3f8ee8c4812fa\n",
      "Successfully built matplotlib-venn\n",
      "Installing collected packages: matplotlib-venn\n",
      "Successfully installed matplotlib-venn-0.11.6\n"
     ]
    }
   ],
   "source": [
    "!pip install matplotlib-venn"
   ]
  },
  {
   "cell_type": "code",
   "execution_count": 48,
   "metadata": {},
   "outputs": [
    {
     "data": {
      "image/png": "[encoded data removed]",
      "text/plain": [
       "<Figure size 720x720 with 1 Axes>"
      ]
     },
     "metadata": {},
     "output_type": "display_data"
    }
   ],
   "source": [
    "from matplotlib import pyplot as plt\n",
    "import numpy as np\n",
    "from matplotlib_venn import venn2, venn2_circles\n",
    "plt.figure(figsize=(10,10))\n",
    "venn2 (subsets = (588453, 221152, 33742), set_labels = ('Смотрящие турецкие сериалы', 'Слушающие турецкую музыку'))\n",
    "plt.title(\"Общие подписчики\")\n",
    "\n",
    "\n",
    "plt.show()"
   ]
  },
  {
   "cell_type": "code",
   "execution_count": 55,
   "metadata": {},
   "outputs": [
    {
     "name": "stdout",
     "output_type": "stream",
     "text": [
      "Moscow               43066\n",
      "Almaty               14319\n",
      "Saint Petersburg     11038\n",
      "Nur-Sultan/Astana     6164\n",
      "Kazan                 4994\n",
      "Shymkent              4782\n",
      "Kyiv                  4640\n",
      "Krasnodar             3968\n",
      "Makhachkala           3930\n",
      "Rostov-on-Don         3234\n",
      "Ufa                   3100\n",
      "İstanbul              2643\n",
      "Yekaterinburg         2487\n",
      "Aktobe                2359\n",
      "Odessa                2304\n",
      "Karaganda             2181\n",
      "Minsk                 2078\n",
      "Novosibirsk           2077\n",
      "Grozny                2077\n",
      "Atyrau                2046\n",
      "Name: city, dtype: int64\n"
     ]
    }
   ],
   "source": [
    "city_count = df['city'].value_counts().drop('-') \n",
    "city_count = city_count [:20]\n",
    "print(city_count)"
   ]
  },
  {
   "cell_type": "code",
   "execution_count": 52,
   "metadata": {},
   "outputs": [],
   "source": [
    "import seaborn as sns"
   ]
  },
  {
   "cell_type": "code",
   "execution_count": 57,
   "metadata": {},
   "outputs": [
    {
     "data": {
      "image/png": "[encoded data removed]",
      "text/plain": [
       "<Figure size 432x288 with 1 Axes>"
      ]
     },
     "metadata": {
      "needs_background": "light"
     },
     "output_type": "display_data"
    }
   ],
   "source": [
    "sns.barplot(city_count.index, city_count.values, palette='copper') \n",
    "plt.title('Cities of fans of Turkish music and Turkish series')\n",
    "plt.ylabel('Number of group members', fontsize=12)\n",
    "plt.xlabel('city', fontsize=12)\n",
    "plt.xticks(rotation=90) \n",
    "plt.show()"
   ]
  },
  {
   "cell_type": "code",
   "execution_count": 59,
   "metadata": {},
   "outputs": [
    {
     "data": {
      "image/png": "[encoded data removed]",
      "text/plain": [
       "<Figure size 1440x720 with 1 Axes>"
      ]
     },
     "metadata": {
      "needs_background": "light"
     },
     "output_type": "display_data"
    }
   ],
   "source": [
    "birth_count  = df['birth'].value_counts().drop('-') \n",
    "plt.figure(figsize=(20,10))\n",
    "ax = sns.barplot(birth_count.index, birth_count.values, palette='Greens') \n",
    "plt.title('Birth year of Turkish music and Turkish series fans')\n",
    "plt.ylabel('Nb of fans', fontsize=12)\n",
    "plt.xlabel('Birth year', fontsize=12)\n",
    "plt.xticks(rotation=90) \n",
    "plt.show() "
   ]
  },
  {
   "cell_type": "code",
   "execution_count": null,
   "metadata": {},
   "outputs": [],
   "source": []
  }
 ],
 "metadata": {
  "kernelspec": {
   "display_name": "Python 3",
   "language": "python",
   "name": "python3"
  },
  "language_info": {
   "codemirror_mode": {
    "name": "ipython",
    "version": 3
   },
   "file_extension": ".py",
   "mimetype": "text/x-python",
   "name": "python",
   "nbconvert_exporter": "python",
   "pygments_lexer": "ipython3",
   "version": "3.8.3"
  }
 },
 "nbformat": 4,
 "nbformat_minor": 4
}
